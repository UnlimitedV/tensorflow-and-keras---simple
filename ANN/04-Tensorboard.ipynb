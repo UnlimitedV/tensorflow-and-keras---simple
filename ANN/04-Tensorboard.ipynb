{
 "cells": [
  {
   "cell_type": "markdown",
   "metadata": {},
   "source": [
    "# Tensorboard\n",
    "\n",
    "---\n",
    "---\n",
    "\n",
    "**NOTE: You must watch the corresponding video to understand this lecture. This notebook can't serve as a full guide. Please watch the video BEFORE posting questions to the QA forum.**\n",
    "\n",
    "---\n",
    "---\n",
    "\n",
    "Let's explore the built in data visualization capabilities that come with Tensorboard.\n",
    "\n",
    "Full official tutorial available here: https://www.tensorflow.org/tensorboard/get_started\n",
    "\n",
    "## Data"
   ]
  },
  {
   "cell_type": "code",
   "execution_count": 1,
   "metadata": {},
   "outputs": [],
   "source": [
    "import pandas as pd\n",
    "import numpy as np"
   ]
  },
  {
   "cell_type": "code",
   "execution_count": 2,
   "metadata": {},
   "outputs": [],
   "source": [
    "df = pd.read_csv('cancer_classification.csv')"
   ]
  },
  {
   "cell_type": "markdown",
   "metadata": {},
   "source": [
    "### Train Test Split"
   ]
  },
  {
   "cell_type": "code",
   "execution_count": 3,
   "metadata": {},
   "outputs": [],
   "source": [
    "X = df.drop('benign_0__mal_1',axis=1).values\n",
    "y = df['benign_0__mal_1'].values"
   ]
  },
  {
   "cell_type": "code",
   "execution_count": 4,
   "metadata": {},
   "outputs": [],
   "source": [
    "from sklearn.model_selection import train_test_split"
   ]
  },
  {
   "cell_type": "code",
   "execution_count": 5,
   "metadata": {},
   "outputs": [],
   "source": [
    "X_train, X_test, y_train, y_test = train_test_split(X,y,test_size=0.25,random_state=101)"
   ]
  },
  {
   "cell_type": "markdown",
   "metadata": {},
   "source": [
    "\n",
    "### Scaling Data"
   ]
  },
  {
   "cell_type": "code",
   "execution_count": 6,
   "metadata": {},
   "outputs": [],
   "source": [
    "from sklearn.preprocessing import MinMaxScaler"
   ]
  },
  {
   "cell_type": "code",
   "execution_count": 7,
   "metadata": {},
   "outputs": [],
   "source": [
    "scaler = MinMaxScaler()"
   ]
  },
  {
   "cell_type": "code",
   "execution_count": 8,
   "metadata": {},
   "outputs": [
    {
     "data": {
      "text/html": [
       "<style>#sk-container-id-1 {color: black;background-color: white;}#sk-container-id-1 pre{padding: 0;}#sk-container-id-1 div.sk-toggleable {background-color: white;}#sk-container-id-1 label.sk-toggleable__label {cursor: pointer;display: block;width: 100%;margin-bottom: 0;padding: 0.3em;box-sizing: border-box;text-align: center;}#sk-container-id-1 label.sk-toggleable__label-arrow:before {content: \"▸\";float: left;margin-right: 0.25em;color: #696969;}#sk-container-id-1 label.sk-toggleable__label-arrow:hover:before {color: black;}#sk-container-id-1 div.sk-estimator:hover label.sk-toggleable__label-arrow:before {color: black;}#sk-container-id-1 div.sk-toggleable__content {max-height: 0;max-width: 0;overflow: hidden;text-align: left;background-color: #f0f8ff;}#sk-container-id-1 div.sk-toggleable__content pre {margin: 0.2em;color: black;border-radius: 0.25em;background-color: #f0f8ff;}#sk-container-id-1 input.sk-toggleable__control:checked~div.sk-toggleable__content {max-height: 200px;max-width: 100%;overflow: auto;}#sk-container-id-1 input.sk-toggleable__control:checked~label.sk-toggleable__label-arrow:before {content: \"▾\";}#sk-container-id-1 div.sk-estimator input.sk-toggleable__control:checked~label.sk-toggleable__label {background-color: #d4ebff;}#sk-container-id-1 div.sk-label input.sk-toggleable__control:checked~label.sk-toggleable__label {background-color: #d4ebff;}#sk-container-id-1 input.sk-hidden--visually {border: 0;clip: rect(1px 1px 1px 1px);clip: rect(1px, 1px, 1px, 1px);height: 1px;margin: -1px;overflow: hidden;padding: 0;position: absolute;width: 1px;}#sk-container-id-1 div.sk-estimator {font-family: monospace;background-color: #f0f8ff;border: 1px dotted black;border-radius: 0.25em;box-sizing: border-box;margin-bottom: 0.5em;}#sk-container-id-1 div.sk-estimator:hover {background-color: #d4ebff;}#sk-container-id-1 div.sk-parallel-item::after {content: \"\";width: 100%;border-bottom: 1px solid gray;flex-grow: 1;}#sk-container-id-1 div.sk-label:hover label.sk-toggleable__label {background-color: #d4ebff;}#sk-container-id-1 div.sk-serial::before {content: \"\";position: absolute;border-left: 1px solid gray;box-sizing: border-box;top: 0;bottom: 0;left: 50%;z-index: 0;}#sk-container-id-1 div.sk-serial {display: flex;flex-direction: column;align-items: center;background-color: white;padding-right: 0.2em;padding-left: 0.2em;position: relative;}#sk-container-id-1 div.sk-item {position: relative;z-index: 1;}#sk-container-id-1 div.sk-parallel {display: flex;align-items: stretch;justify-content: center;background-color: white;position: relative;}#sk-container-id-1 div.sk-item::before, #sk-container-id-1 div.sk-parallel-item::before {content: \"\";position: absolute;border-left: 1px solid gray;box-sizing: border-box;top: 0;bottom: 0;left: 50%;z-index: -1;}#sk-container-id-1 div.sk-parallel-item {display: flex;flex-direction: column;z-index: 1;position: relative;background-color: white;}#sk-container-id-1 div.sk-parallel-item:first-child::after {align-self: flex-end;width: 50%;}#sk-container-id-1 div.sk-parallel-item:last-child::after {align-self: flex-start;width: 50%;}#sk-container-id-1 div.sk-parallel-item:only-child::after {width: 0;}#sk-container-id-1 div.sk-dashed-wrapped {border: 1px dashed gray;margin: 0 0.4em 0.5em 0.4em;box-sizing: border-box;padding-bottom: 0.4em;background-color: white;}#sk-container-id-1 div.sk-label label {font-family: monospace;font-weight: bold;display: inline-block;line-height: 1.2em;}#sk-container-id-1 div.sk-label-container {text-align: center;}#sk-container-id-1 div.sk-container {/* jupyter's `normalize.less` sets `[hidden] { display: none; }` but bootstrap.min.css set `[hidden] { display: none !important; }` so we also need the `!important` here to be able to override the default hidden behavior on the sphinx rendered scikit-learn.org. See: https://github.com/scikit-learn/scikit-learn/issues/21755 */display: inline-block !important;position: relative;}#sk-container-id-1 div.sk-text-repr-fallback {display: none;}</style><div id=\"sk-container-id-1\" class=\"sk-top-container\"><div class=\"sk-text-repr-fallback\"><pre>MinMaxScaler()</pre><b>In a Jupyter environment, please rerun this cell to show the HTML representation or trust the notebook. <br />On GitHub, the HTML representation is unable to render, please try loading this page with nbviewer.org.</b></div><div class=\"sk-container\" hidden><div class=\"sk-item\"><div class=\"sk-estimator sk-toggleable\"><input class=\"sk-toggleable__control sk-hidden--visually\" id=\"sk-estimator-id-1\" type=\"checkbox\" checked><label for=\"sk-estimator-id-1\" class=\"sk-toggleable__label sk-toggleable__label-arrow\">MinMaxScaler</label><div class=\"sk-toggleable__content\"><pre>MinMaxScaler()</pre></div></div></div></div></div>"
      ],
      "text/plain": [
       "MinMaxScaler()"
      ]
     },
     "execution_count": 8,
     "metadata": {},
     "output_type": "execute_result"
    }
   ],
   "source": [
    "scaler.fit(X_train)"
   ]
  },
  {
   "cell_type": "code",
   "execution_count": 9,
   "metadata": {},
   "outputs": [],
   "source": [
    "X_train = scaler.transform(X_train)\n",
    "X_test = scaler.transform(X_test)"
   ]
  },
  {
   "cell_type": "markdown",
   "metadata": {},
   "source": [
    "## Creating the Model"
   ]
  },
  {
   "cell_type": "code",
   "execution_count": 10,
   "metadata": {},
   "outputs": [
    {
     "name": "stderr",
     "output_type": "stream",
     "text": [
      "2023-04-29 15:50:26.048007: I tensorflow/tsl/cuda/cudart_stub.cc:28] Could not find cuda drivers on your machine, GPU will not be used.\n",
      "2023-04-29 15:50:26.098624: I tensorflow/tsl/cuda/cudart_stub.cc:28] Could not find cuda drivers on your machine, GPU will not be used.\n",
      "2023-04-29 15:50:26.099143: I tensorflow/core/platform/cpu_feature_guard.cc:182] This TensorFlow binary is optimized to use available CPU instructions in performance-critical operations.\n",
      "To enable the following instructions: AVX2 FMA, in other operations, rebuild TensorFlow with the appropriate compiler flags.\n",
      "2023-04-29 15:50:26.968346: W tensorflow/compiler/tf2tensorrt/utils/py_utils.cc:38] TF-TRT Warning: Could not find TensorRT\n"
     ]
    }
   ],
   "source": [
    "import tensorflow as tf\n",
    "k = tf.keras"
   ]
  },
  {
   "cell_type": "code",
   "execution_count": 11,
   "metadata": {},
   "outputs": [],
   "source": [
    "early_stop = k.callbacks.EarlyStopping(monitor='val_loss', mode='min', verbose=1, patience=25)"
   ]
  },
  {
   "cell_type": "markdown",
   "metadata": {},
   "source": [
    "## Creating the Tensorboard Callback\n",
    "\n",
    "TensorBoard is a visualization tool provided with TensorFlow.\n",
    "\n",
    "This callback logs events for TensorBoard, including:\n",
    "* Metrics summary plots\n",
    "* Training graph visualization\n",
    "* Activation histograms\n",
    "* Sampled profiling\n",
    "\n",
    "If you have installed TensorFlow with pip, you should be able\n",
    "to launch TensorBoard from the command line:\n",
    "\n",
    "```sh\n",
    "tensorboard --logdir=path_to_your_logs\n",
    "```\n",
    "\n",
    "You can find more information about TensorBoard\n",
    "[here](https://www.tensorflow.org/tensorboard/).\n",
    "\n",
    "    Arguments:\n",
    "        log_dir: the path of the directory where to save the log files to be\n",
    "          parsed by TensorBoard.\n",
    "        histogram_freq: frequency (in epochs) at which to compute activation and\n",
    "          weight histograms for the layers of the model. If set to 0, histograms\n",
    "          won't be computed. Validation data (or split) must be specified for\n",
    "          histogram visualizations.\n",
    "        write_graph: whether to visualize the graph in TensorBoard. The log file\n",
    "          can become quite large when write_graph is set to True.\n",
    "        write_images: whether to write model weights to visualize as image in\n",
    "          TensorBoard.\n",
    "        update_freq: `'batch'` or `'epoch'` or integer. When using `'batch'`,\n",
    "          writes the losses and metrics to TensorBoard after each batch. The same\n",
    "          applies for `'epoch'`. If using an integer, let's say `1000`, the\n",
    "          callback will write the metrics and losses to TensorBoard every 1000\n",
    "          samples. Note that writing too frequently to TensorBoard can slow down\n",
    "          your training.\n",
    "        profile_batch: Profile the batch to sample compute characteristics. By\n",
    "          default, it will profile the second batch. Set profile_batch=0 to\n",
    "          disable profiling. Must run in TensorFlow eager mode.\n",
    "        embeddings_freq: frequency (in epochs) at which embedding layers will\n",
    "          be visualized. If set to 0, embeddings won't be visualized.\n",
    "       "
   ]
  },
  {
   "cell_type": "code",
   "execution_count": 12,
   "metadata": {},
   "outputs": [],
   "source": [
    "from datetime import datetime"
   ]
  },
  {
   "cell_type": "code",
   "execution_count": 13,
   "metadata": {},
   "outputs": [
    {
     "data": {
      "text/plain": [
       "'2023-04-29--1550'"
      ]
     },
     "execution_count": 13,
     "metadata": {},
     "output_type": "execute_result"
    }
   ],
   "source": [
    "datetime.now().strftime(\"%Y-%m-%d--%H%M\")"
   ]
  },
  {
   "cell_type": "code",
   "execution_count": 14,
   "metadata": {},
   "outputs": [
    {
     "name": "stderr",
     "output_type": "stream",
     "text": [
      "2023-04-29 15:50:27.953445: I tensorflow/tsl/profiler/lib/profiler_session.cc:104] Profiler session initializing.\n",
      "2023-04-29 15:50:27.953495: I tensorflow/tsl/profiler/lib/profiler_session.cc:119] Profiler session started.\n",
      "2023-04-29 15:50:27.975594: I tensorflow/tsl/profiler/lib/profiler_session.cc:131] Profiler session tear down.\n"
     ]
    }
   ],
   "source": [
    "# WINDOWS: Use \"logs\\\\fit\"\n",
    "# MACOS/LINUX: Use \"logs\\fit\"\n",
    "\n",
    "log_directory = 'logs/fit'\n",
    "\n",
    "# OPTIONAL: ADD A TIMESTAMP FOR UNIQUE FOLDER\n",
    "# timestamp = datetime.now().strftime(\"%Y-%m-%d--%H%M\")\n",
    "# log_directory = log_directory + '\\\\' + timestamp\n",
    "\n",
    "\n",
    "board = k.callbacks.TensorBoard(log_dir=log_directory,histogram_freq=1,\n",
    "    write_graph=True,\n",
    "    write_images=True,\n",
    "    update_freq='epoch',\n",
    "    profile_batch=2,\n",
    "    embeddings_freq=1)"
   ]
  },
  {
   "cell_type": "markdown",
   "metadata": {},
   "source": [
    "Now create the model layers:"
   ]
  },
  {
   "cell_type": "code",
   "execution_count": 15,
   "metadata": {},
   "outputs": [
    {
     "name": "stderr",
     "output_type": "stream",
     "text": [
      "2023-04-29 15:50:28.064820: E tensorflow/compiler/xla/stream_executor/cuda/cuda_driver.cc:266] failed call to cuInit: CUDA_ERROR_NO_DEVICE: no CUDA-capable device is detected\n"
     ]
    }
   ],
   "source": [
    "model = k.Sequential()\n",
    "model.add(k.layers.Dense(units=30,activation='relu'))\n",
    "model.add(k.layers.Dropout(0.5))\n",
    "model.add(k.layers.Dense(units=15,activation='relu'))\n",
    "model.add(k.layers.Dropout(0.5))\n",
    "model.add(k.layers.Dense(units=1,activation='sigmoid'))\n",
    "model.compile(loss='binary_crossentropy', optimizer='adam')"
   ]
  },
  {
   "cell_type": "markdown",
   "metadata": {},
   "source": [
    "## Train the Model"
   ]
  },
  {
   "cell_type": "code",
   "execution_count": 16,
   "metadata": {},
   "outputs": [
    {
     "name": "stdout",
     "output_type": "stream",
     "text": [
      "Epoch 1/600\n",
      " 1/14 [=>............................] - ETA: 12s - loss: 0.6918"
     ]
    },
    {
     "name": "stderr",
     "output_type": "stream",
     "text": [
      "2023-04-29 15:50:29.278332: I tensorflow/tsl/profiler/lib/profiler_session.cc:104] Profiler session initializing.\n",
      "2023-04-29 15:50:29.278365: I tensorflow/tsl/profiler/lib/profiler_session.cc:119] Profiler session started.\n",
      "2023-04-29 15:50:29.282561: I tensorflow/tsl/profiler/lib/profiler_session.cc:70] Profiler session collecting data.\n",
      "2023-04-29 15:50:29.283939: I tensorflow/tsl/profiler/lib/profiler_session.cc:131] Profiler session tear down.\n"
     ]
    },
    {
     "name": "stdout",
     "output_type": "stream",
     "text": [
      "14/14 [==============================] - 2s 52ms/step - loss: 0.6843 - val_loss: 0.6689\n",
      "Epoch 2/600\n",
      "14/14 [==============================] - 0s 17ms/step - loss: 0.6731 - val_loss: 0.6538\n",
      "Epoch 3/600\n",
      "14/14 [==============================] - 0s 19ms/step - loss: 0.6641 - val_loss: 0.6414\n",
      "Epoch 4/600\n",
      "14/14 [==============================] - 0s 12ms/step - loss: 0.6576 - val_loss: 0.6283\n",
      "Epoch 5/600\n",
      "14/14 [==============================] - 0s 10ms/step - loss: 0.6354 - val_loss: 0.6134\n",
      "Epoch 6/600\n",
      "14/14 [==============================] - 0s 10ms/step - loss: 0.6166 - val_loss: 0.5934\n",
      "Epoch 7/600\n",
      "14/14 [==============================] - 0s 12ms/step - loss: 0.5925 - val_loss: 0.5658\n",
      "Epoch 8/600\n",
      "14/14 [==============================] - 0s 20ms/step - loss: 0.5755 - val_loss: 0.5371\n",
      "Epoch 9/600\n",
      "14/14 [==============================] - 0s 14ms/step - loss: 0.5452 - val_loss: 0.5052\n",
      "Epoch 10/600\n",
      "14/14 [==============================] - 0s 9ms/step - loss: 0.5329 - val_loss: 0.4746\n",
      "Epoch 11/600\n",
      "14/14 [==============================] - 0s 8ms/step - loss: 0.4940 - val_loss: 0.4437\n",
      "Epoch 12/600\n",
      "14/14 [==============================] - 0s 9ms/step - loss: 0.4750 - val_loss: 0.4145\n",
      "Epoch 13/600\n",
      "14/14 [==============================] - 0s 7ms/step - loss: 0.4530 - val_loss: 0.3797\n",
      "Epoch 14/600\n",
      "14/14 [==============================] - 0s 10ms/step - loss: 0.4295 - val_loss: 0.3524\n",
      "Epoch 15/600\n",
      "14/14 [==============================] - 0s 7ms/step - loss: 0.4471 - val_loss: 0.3354\n",
      "Epoch 16/600\n",
      "14/14 [==============================] - 0s 9ms/step - loss: 0.3805 - val_loss: 0.3186\n",
      "Epoch 17/600\n",
      "14/14 [==============================] - 0s 8ms/step - loss: 0.3873 - val_loss: 0.2949\n",
      "Epoch 18/600\n",
      "14/14 [==============================] - 0s 7ms/step - loss: 0.3762 - val_loss: 0.2743\n",
      "Epoch 19/600\n",
      "14/14 [==============================] - 0s 7ms/step - loss: 0.3807 - val_loss: 0.2623\n",
      "Epoch 20/600\n",
      "14/14 [==============================] - 0s 7ms/step - loss: 0.3435 - val_loss: 0.2522\n",
      "Epoch 21/600\n",
      "14/14 [==============================] - 0s 7ms/step - loss: 0.3393 - val_loss: 0.2388\n",
      "Epoch 22/600\n",
      "14/14 [==============================] - 0s 8ms/step - loss: 0.3291 - val_loss: 0.2294\n",
      "Epoch 23/600\n",
      "14/14 [==============================] - 0s 7ms/step - loss: 0.3120 - val_loss: 0.2208\n",
      "Epoch 24/600\n",
      "14/14 [==============================] - 0s 7ms/step - loss: 0.3107 - val_loss: 0.2083\n",
      "Epoch 25/600\n",
      "14/14 [==============================] - 0s 7ms/step - loss: 0.3309 - val_loss: 0.2024\n",
      "Epoch 26/600\n",
      "14/14 [==============================] - 0s 8ms/step - loss: 0.2916 - val_loss: 0.1986\n",
      "Epoch 27/600\n",
      "14/14 [==============================] - 0s 7ms/step - loss: 0.2993 - val_loss: 0.1956\n",
      "Epoch 28/600\n",
      "14/14 [==============================] - 0s 7ms/step - loss: 0.2667 - val_loss: 0.1912\n",
      "Epoch 29/600\n",
      "14/14 [==============================] - 0s 7ms/step - loss: 0.2693 - val_loss: 0.1801\n",
      "Epoch 30/600\n",
      "14/14 [==============================] - 0s 8ms/step - loss: 0.2468 - val_loss: 0.1771\n",
      "Epoch 31/600\n",
      "14/14 [==============================] - 0s 8ms/step - loss: 0.2602 - val_loss: 0.1654\n",
      "Epoch 32/600\n",
      "14/14 [==============================] - 0s 7ms/step - loss: 0.2317 - val_loss: 0.1592\n",
      "Epoch 33/600\n",
      "14/14 [==============================] - 0s 10ms/step - loss: 0.2253 - val_loss: 0.1603\n",
      "Epoch 34/600\n",
      "14/14 [==============================] - 0s 8ms/step - loss: 0.2252 - val_loss: 0.1489\n",
      "Epoch 35/600\n",
      "14/14 [==============================] - 0s 7ms/step - loss: 0.2090 - val_loss: 0.1528\n",
      "Epoch 36/600\n",
      "14/14 [==============================] - 0s 7ms/step - loss: 0.2384 - val_loss: 0.1509\n",
      "Epoch 37/600\n",
      "14/14 [==============================] - 0s 8ms/step - loss: 0.2144 - val_loss: 0.1401\n",
      "Epoch 38/600\n",
      "14/14 [==============================] - 0s 12ms/step - loss: 0.2016 - val_loss: 0.1390\n",
      "Epoch 39/600\n",
      "14/14 [==============================] - 0s 17ms/step - loss: 0.2221 - val_loss: 0.1361\n",
      "Epoch 40/600\n",
      "14/14 [==============================] - 0s 16ms/step - loss: 0.1976 - val_loss: 0.1319\n",
      "Epoch 41/600\n",
      "14/14 [==============================] - 0s 13ms/step - loss: 0.2006 - val_loss: 0.1231\n",
      "Epoch 42/600\n",
      "14/14 [==============================] - 0s 10ms/step - loss: 0.2214 - val_loss: 0.1267\n",
      "Epoch 43/600\n",
      "14/14 [==============================] - 0s 9ms/step - loss: 0.2242 - val_loss: 0.1388\n",
      "Epoch 44/600\n",
      "14/14 [==============================] - 0s 9ms/step - loss: 0.2268 - val_loss: 0.1245\n",
      "Epoch 45/600\n",
      "14/14 [==============================] - 0s 9ms/step - loss: 0.1943 - val_loss: 0.1282\n",
      "Epoch 46/600\n",
      "14/14 [==============================] - 0s 9ms/step - loss: 0.1882 - val_loss: 0.1222\n",
      "Epoch 47/600\n",
      "14/14 [==============================] - 0s 12ms/step - loss: 0.1764 - val_loss: 0.1278\n",
      "Epoch 48/600\n",
      "14/14 [==============================] - 0s 9ms/step - loss: 0.1613 - val_loss: 0.1250\n",
      "Epoch 49/600\n",
      "14/14 [==============================] - 0s 9ms/step - loss: 0.1643 - val_loss: 0.1124\n",
      "Epoch 50/600\n",
      "14/14 [==============================] - 0s 10ms/step - loss: 0.1762 - val_loss: 0.1178\n",
      "Epoch 51/600\n",
      "14/14 [==============================] - 0s 15ms/step - loss: 0.1534 - val_loss: 0.1128\n",
      "Epoch 52/600\n",
      "14/14 [==============================] - 0s 18ms/step - loss: 0.1427 - val_loss: 0.1118\n",
      "Epoch 53/600\n",
      "14/14 [==============================] - 0s 13ms/step - loss: 0.1567 - val_loss: 0.1142\n",
      "Epoch 54/600\n",
      "14/14 [==============================] - 0s 9ms/step - loss: 0.1514 - val_loss: 0.1083\n",
      "Epoch 55/600\n",
      "14/14 [==============================] - 0s 9ms/step - loss: 0.1316 - val_loss: 0.1059\n",
      "Epoch 56/600\n",
      "14/14 [==============================] - 0s 9ms/step - loss: 0.1388 - val_loss: 0.1076\n",
      "Epoch 57/600\n",
      "14/14 [==============================] - 0s 9ms/step - loss: 0.1696 - val_loss: 0.1171\n",
      "Epoch 58/600\n",
      "14/14 [==============================] - 0s 9ms/step - loss: 0.1514 - val_loss: 0.1140\n",
      "Epoch 59/600\n",
      "14/14 [==============================] - 0s 9ms/step - loss: 0.1375 - val_loss: 0.1070\n",
      "Epoch 60/600\n",
      "14/14 [==============================] - 0s 9ms/step - loss: 0.1341 - val_loss: 0.1104\n",
      "Epoch 61/600\n",
      "14/14 [==============================] - 0s 10ms/step - loss: 0.1501 - val_loss: 0.1086\n",
      "Epoch 62/600\n",
      "14/14 [==============================] - 0s 8ms/step - loss: 0.1521 - val_loss: 0.1015\n",
      "Epoch 63/600\n",
      "14/14 [==============================] - 0s 8ms/step - loss: 0.1581 - val_loss: 0.1060\n",
      "Epoch 64/600\n",
      "14/14 [==============================] - 0s 9ms/step - loss: 0.1408 - val_loss: 0.1073\n",
      "Epoch 65/600\n",
      "14/14 [==============================] - 0s 9ms/step - loss: 0.1284 - val_loss: 0.1122\n",
      "Epoch 66/600\n",
      "14/14 [==============================] - 0s 9ms/step - loss: 0.1537 - val_loss: 0.0983\n",
      "Epoch 67/600\n",
      "14/14 [==============================] - 0s 9ms/step - loss: 0.1388 - val_loss: 0.1040\n",
      "Epoch 68/600\n",
      "14/14 [==============================] - 0s 9ms/step - loss: 0.1263 - val_loss: 0.1033\n",
      "Epoch 69/600\n",
      "14/14 [==============================] - 0s 8ms/step - loss: 0.1154 - val_loss: 0.1038\n",
      "Epoch 70/600\n",
      "14/14 [==============================] - 0s 9ms/step - loss: 0.1236 - val_loss: 0.0973\n",
      "Epoch 71/600\n",
      "14/14 [==============================] - 0s 11ms/step - loss: 0.1404 - val_loss: 0.1040\n",
      "Epoch 72/600\n",
      "14/14 [==============================] - 0s 9ms/step - loss: 0.1339 - val_loss: 0.1065\n",
      "Epoch 73/600\n",
      "14/14 [==============================] - 0s 9ms/step - loss: 0.1241 - val_loss: 0.0983\n",
      "Epoch 74/600\n",
      "14/14 [==============================] - 0s 9ms/step - loss: 0.1412 - val_loss: 0.0965\n",
      "Epoch 75/600\n",
      "14/14 [==============================] - 0s 10ms/step - loss: 0.1321 - val_loss: 0.1054\n",
      "Epoch 76/600\n",
      "14/14 [==============================] - 0s 10ms/step - loss: 0.1168 - val_loss: 0.1070\n",
      "Epoch 77/600\n",
      "14/14 [==============================] - 0s 10ms/step - loss: 0.1260 - val_loss: 0.0989\n",
      "Epoch 78/600\n",
      "14/14 [==============================] - 0s 9ms/step - loss: 0.1069 - val_loss: 0.0992\n",
      "Epoch 79/600\n",
      "14/14 [==============================] - 0s 9ms/step - loss: 0.1254 - val_loss: 0.0972\n",
      "Epoch 80/600\n",
      "14/14 [==============================] - 0s 9ms/step - loss: 0.1292 - val_loss: 0.1124\n",
      "Epoch 81/600\n",
      "14/14 [==============================] - 0s 9ms/step - loss: 0.1204 - val_loss: 0.1012\n",
      "Epoch 82/600\n",
      "14/14 [==============================] - 0s 10ms/step - loss: 0.1175 - val_loss: 0.0982\n",
      "Epoch 83/600\n",
      "14/14 [==============================] - 0s 8ms/step - loss: 0.1037 - val_loss: 0.0990\n",
      "Epoch 84/600\n",
      "14/14 [==============================] - 0s 9ms/step - loss: 0.1092 - val_loss: 0.0957\n",
      "Epoch 85/600\n",
      "14/14 [==============================] - 0s 9ms/step - loss: 0.1218 - val_loss: 0.1162\n",
      "Epoch 86/600\n",
      "14/14 [==============================] - 0s 10ms/step - loss: 0.1101 - val_loss: 0.0930\n",
      "Epoch 87/600\n",
      "14/14 [==============================] - 0s 8ms/step - loss: 0.1047 - val_loss: 0.0986\n",
      "Epoch 88/600\n",
      "14/14 [==============================] - 0s 8ms/step - loss: 0.1165 - val_loss: 0.1091\n",
      "Epoch 89/600\n",
      "14/14 [==============================] - 0s 9ms/step - loss: 0.1076 - val_loss: 0.0996\n",
      "Epoch 90/600\n",
      "14/14 [==============================] - 0s 9ms/step - loss: 0.1134 - val_loss: 0.0944\n",
      "Epoch 91/600\n",
      "14/14 [==============================] - 0s 8ms/step - loss: 0.1069 - val_loss: 0.0949\n",
      "Epoch 92/600\n",
      "14/14 [==============================] - 0s 8ms/step - loss: 0.1168 - val_loss: 0.0921\n",
      "Epoch 93/600\n",
      "14/14 [==============================] - 0s 9ms/step - loss: 0.0973 - val_loss: 0.1102\n",
      "Epoch 94/600\n",
      "14/14 [==============================] - 0s 9ms/step - loss: 0.0852 - val_loss: 0.1100\n",
      "Epoch 95/600\n",
      "14/14 [==============================] - 0s 8ms/step - loss: 0.1190 - val_loss: 0.0962\n",
      "Epoch 96/600\n",
      "14/14 [==============================] - 0s 10ms/step - loss: 0.1043 - val_loss: 0.0937\n",
      "Epoch 97/600\n",
      "14/14 [==============================] - 0s 14ms/step - loss: 0.0891 - val_loss: 0.1087\n",
      "Epoch 98/600\n",
      "14/14 [==============================] - 0s 11ms/step - loss: 0.0922 - val_loss: 0.0994\n",
      "Epoch 99/600\n",
      "14/14 [==============================] - 0s 9ms/step - loss: 0.1226 - val_loss: 0.0915\n",
      "Epoch 100/600\n",
      "14/14 [==============================] - 0s 8ms/step - loss: 0.1269 - val_loss: 0.1159\n",
      "Epoch 101/600\n",
      "14/14 [==============================] - 0s 10ms/step - loss: 0.1154 - val_loss: 0.0937\n",
      "Epoch 102/600\n",
      "14/14 [==============================] - 0s 9ms/step - loss: 0.0909 - val_loss: 0.0949\n",
      "Epoch 103/600\n",
      "14/14 [==============================] - 0s 9ms/step - loss: 0.1165 - val_loss: 0.1065\n",
      "Epoch 104/600\n",
      "14/14 [==============================] - 0s 9ms/step - loss: 0.0882 - val_loss: 0.0998\n",
      "Epoch 105/600\n",
      "14/14 [==============================] - 0s 9ms/step - loss: 0.0983 - val_loss: 0.0904\n",
      "Epoch 106/600\n",
      "14/14 [==============================] - 0s 9ms/step - loss: 0.0949 - val_loss: 0.1060\n",
      "Epoch 107/600\n",
      "14/14 [==============================] - 0s 10ms/step - loss: 0.0863 - val_loss: 0.1045\n",
      "Epoch 108/600\n",
      "14/14 [==============================] - 0s 10ms/step - loss: 0.0858 - val_loss: 0.0996\n",
      "Epoch 109/600\n",
      "14/14 [==============================] - 0s 8ms/step - loss: 0.1214 - val_loss: 0.0912\n",
      "Epoch 110/600\n",
      "14/14 [==============================] - 0s 9ms/step - loss: 0.1097 - val_loss: 0.0936\n",
      "Epoch 111/600\n",
      "14/14 [==============================] - 0s 10ms/step - loss: 0.0839 - val_loss: 0.1093\n",
      "Epoch 112/600\n",
      "14/14 [==============================] - 0s 8ms/step - loss: 0.1132 - val_loss: 0.1085\n",
      "Epoch 113/600\n",
      "14/14 [==============================] - 0s 9ms/step - loss: 0.1237 - val_loss: 0.0897\n",
      "Epoch 114/600\n",
      "14/14 [==============================] - 0s 9ms/step - loss: 0.1134 - val_loss: 0.0957\n",
      "Epoch 115/600\n",
      "14/14 [==============================] - 0s 8ms/step - loss: 0.0823 - val_loss: 0.0981\n",
      "Epoch 116/600\n",
      "14/14 [==============================] - 0s 9ms/step - loss: 0.0851 - val_loss: 0.0934\n",
      "Epoch 117/600\n",
      "14/14 [==============================] - 0s 9ms/step - loss: 0.0947 - val_loss: 0.0915\n",
      "Epoch 118/600\n",
      "14/14 [==============================] - 0s 10ms/step - loss: 0.1004 - val_loss: 0.1118\n",
      "Epoch 119/600\n",
      "14/14 [==============================] - 0s 8ms/step - loss: 0.1006 - val_loss: 0.0926\n",
      "Epoch 120/600\n",
      "14/14 [==============================] - 0s 8ms/step - loss: 0.0904 - val_loss: 0.0939\n",
      "Epoch 121/600\n",
      "14/14 [==============================] - 0s 11ms/step - loss: 0.0950 - val_loss: 0.1099\n",
      "Epoch 122/600\n",
      "14/14 [==============================] - 0s 12ms/step - loss: 0.0946 - val_loss: 0.0940\n",
      "Epoch 123/600\n",
      "14/14 [==============================] - 0s 9ms/step - loss: 0.0782 - val_loss: 0.1088\n",
      "Epoch 124/600\n",
      "14/14 [==============================] - 0s 8ms/step - loss: 0.0842 - val_loss: 0.0932\n",
      "Epoch 125/600\n",
      "14/14 [==============================] - 0s 9ms/step - loss: 0.0746 - val_loss: 0.1015\n",
      "Epoch 126/600\n",
      "14/14 [==============================] - 0s 9ms/step - loss: 0.0843 - val_loss: 0.1156\n",
      "Epoch 127/600\n",
      "14/14 [==============================] - 0s 9ms/step - loss: 0.0877 - val_loss: 0.1110\n",
      "Epoch 128/600\n",
      "14/14 [==============================] - 0s 9ms/step - loss: 0.0771 - val_loss: 0.0947\n",
      "Epoch 129/600\n",
      "14/14 [==============================] - 0s 8ms/step - loss: 0.1063 - val_loss: 0.1055\n",
      "Epoch 130/600\n",
      "14/14 [==============================] - 0s 9ms/step - loss: 0.0895 - val_loss: 0.0943\n",
      "Epoch 131/600\n",
      "14/14 [==============================] - 0s 9ms/step - loss: 0.0868 - val_loss: 0.0907\n",
      "Epoch 132/600\n",
      "14/14 [==============================] - 0s 9ms/step - loss: 0.0953 - val_loss: 0.0964\n",
      "Epoch 133/600\n",
      "14/14 [==============================] - 0s 9ms/step - loss: 0.0955 - val_loss: 0.0993\n",
      "Epoch 134/600\n",
      "14/14 [==============================] - 0s 9ms/step - loss: 0.0837 - val_loss: 0.0950\n",
      "Epoch 135/600\n",
      "14/14 [==============================] - 0s 8ms/step - loss: 0.0931 - val_loss: 0.1102\n",
      "Epoch 136/600\n",
      "14/14 [==============================] - 0s 8ms/step - loss: 0.1010 - val_loss: 0.1027\n",
      "Epoch 137/600\n",
      "14/14 [==============================] - 0s 8ms/step - loss: 0.0831 - val_loss: 0.0897\n",
      "Epoch 138/600\n",
      "14/14 [==============================] - 0s 8ms/step - loss: 0.0830 - val_loss: 0.1054\n",
      "Epoch 138: early stopping\n"
     ]
    },
    {
     "data": {
      "text/plain": [
       "<keras.callbacks.History at 0x7f0df47cdea0>"
      ]
     },
     "execution_count": 16,
     "metadata": {},
     "output_type": "execute_result"
    }
   ],
   "source": [
    "model.fit(x=X_train, \n",
    "          y=y_train, \n",
    "          epochs=600,\n",
    "          validation_data=(X_test, y_test), verbose=1,\n",
    "          callbacks=[early_stop,board]\n",
    "          )"
   ]
  },
  {
   "cell_type": "markdown",
   "metadata": {},
   "source": [
    "# Running Tensorboard\n"
   ]
  },
  {
   "cell_type": "markdown",
   "metadata": {},
   "source": [
    "## Running through the Command Line\n",
    "\n",
    "**Watch video to see how to run Tensorboard through a command line call.**"
   ]
  },
  {
   "cell_type": "markdown",
   "metadata": {},
   "source": [
    "Tensorboard will run locally in your browser at [http://localhost:6006/](http://localhost:6006/)\n"
   ]
  },
  {
   "cell_type": "code",
   "execution_count": 17,
   "metadata": {},
   "outputs": [
    {
     "name": "stdout",
     "output_type": "stream",
     "text": [
      "logs/fit\n"
     ]
    }
   ],
   "source": [
    "print(log_directory)"
   ]
  },
  {
   "cell_type": "markdown",
   "metadata": {},
   "source": [
    "### Use cd at your command line to change directory to the file path reported back by pwd or your current .py file location.\n",
    "### Then run this code at your command line or terminal"
   ]
  },
  {
   "cell_type": "code",
   "execution_count": 18,
   "metadata": {},
   "outputs": [],
   "source": [
    "# tensorboard --logdir logs/fit"
   ]
  }
 ],
 "metadata": {
  "kernelspec": {
   "display_name": "Python 3",
   "language": "python",
   "name": "python3"
  },
  "language_info": {
   "codemirror_mode": {
    "name": "ipython",
    "version": 3
   },
   "file_extension": ".py",
   "mimetype": "text/x-python",
   "name": "python",
   "nbconvert_exporter": "python",
   "pygments_lexer": "ipython3",
   "version": "3.10.6"
  }
 },
 "nbformat": 4,
 "nbformat_minor": 2
}
